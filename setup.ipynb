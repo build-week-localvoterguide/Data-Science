{
 "cells": [
  {
   "cell_type": "code",
   "execution_count": 4,
   "metadata": {},
   "outputs": [],
   "source": [
    "import urllib.request\n",
    "import pandas as pd\n",
    "from datetime import datetime\n",
    "from datetime import date"
   ]
  },
  {
   "cell_type": "code",
   "execution_count": 5,
   "metadata": {},
   "outputs": [
    {
     "name": "stderr",
     "output_type": "stream",
     "text": [
      "b'Skipping line 368: expected 53 fields, saw 54\\n'\n"
     ]
    }
   ],
   "source": [
    "usreps = pd.read_csv('https://raw.githubusercontent.com/CivilServiceUSA/us-house/master/us-house/data/us-house.csv', error_bad_lines = False)\n",
    "senators = pd.read_csv('https://raw.githubusercontent.com/CivilServiceUSA/us-senate/master/us-senate/data/us-senate.csv', error_bad_lines = False)"
   ]
  },
  {
   "cell_type": "code",
   "execution_count": 3,
   "metadata": {},
   "outputs": [],
   "source": [
    "def dl_jpg(url, file_path, file_name):\n",
    "    full_path = file_path + file_name + '.jpg'\n",
    "    urllib.request.urlretrieve(url, full_path)"
   ]
  },
  {
   "cell_type": "code",
   "execution_count": null,
   "metadata": {},
   "outputs": [],
   "source": [
    "#[dl_jpg(jpg, 'training_images/Democrat/', file_name) for jpg in ]"
   ]
  },
  {
   "cell_type": "code",
   "execution_count": 23,
   "metadata": {},
   "outputs": [],
   "source": [
    "dems = [senators.photo_url[jpg] for jpg in range(len(senators.photo_url)) if senators.party[jpg] == \"democrat\"]\n",
    "repub = [senators.photo_url[jpg] for jpg in range(len(senators.photo_url)) if senators.party[jpg] == \"republican\"]"
   ]
  },
  {
   "cell_type": "code",
   "execution_count": 61,
   "metadata": {},
   "outputs": [
    {
     "data": {
      "text/plain": [
       "1"
      ]
     },
     "execution_count": 61,
     "metadata": {},
     "output_type": "execute_result"
    }
   ],
   "source": [
    "#missing photo link\n",
    "usreps.photo_url.isnull().sum()"
   ]
  },
  {
   "cell_type": "code",
   "execution_count": 55,
   "metadata": {},
   "outputs": [],
   "source": [
    "dems_house = [usreps.photo_url[jpg] for jpg in range(len(usreps.photo_url)) if usreps.party[jpg] == \"democrat\" and pd.isna(usreps.photo_url[jpg]) == False]\n",
    "repub_house = [usreps.photo_url[jpg] for jpg in range(len(usreps.photo_url)) if usreps.party[jpg] == \"republican\" and pd.isna(usreps.photo_url[jpg]) == False]"
   ]
  },
  {
   "cell_type": "code",
   "execution_count": 56,
   "metadata": {},
   "outputs": [
    {
     "data": {
      "text/plain": [
       "(234, 199)"
      ]
     },
     "execution_count": 56,
     "metadata": {},
     "output_type": "execute_result"
    }
   ],
   "source": [
    "len(dems_house), len(repub_house)"
   ]
  },
  {
   "cell_type": "code",
   "execution_count": 34,
   "metadata": {},
   "outputs": [],
   "source": [
    "i = 0\n",
    "for url in dems:\n",
    "    i = i + 1\n",
    "    dl_jpg(url, 'training_images/Democrat/', 'democrat' + str(i))"
   ]
  },
  {
   "cell_type": "code",
   "execution_count": 35,
   "metadata": {},
   "outputs": [],
   "source": [
    "i = 0\n",
    "for url in repub:\n",
    "    i = i + 1\n",
    "    dl_jpg(url, 'training_images/Republican/', 'republican' + str(i))"
   ]
  },
  {
   "cell_type": "code",
   "execution_count": 63,
   "metadata": {},
   "outputs": [],
   "source": [
    "i = 45\n",
    "for url in dems_house:\n",
    "    i = i + 1\n",
    "    dl_jpg(url, 'training_images/Democrat/', 'democrat' + str(i))"
   ]
  },
  {
   "cell_type": "code",
   "execution_count": 65,
   "metadata": {},
   "outputs": [],
   "source": [
    "i = 53\n",
    "for url in repub_house:\n",
    "    i = i + 1\n",
    "    dl_jpg(url, 'training_images/Republican/', 'republican' + str(i))"
   ]
  },
  {
   "cell_type": "code",
   "execution_count": 64,
   "metadata": {},
   "outputs": [
    {
     "data": {
      "text/plain": [
       "republican     53\n",
       "democrat       45\n",
       "independent     2\n",
       "Name: party, dtype: int64"
      ]
     },
     "execution_count": 64,
     "metadata": {},
     "output_type": "execute_result"
    }
   ],
   "source": [
    "senators.party.value_counts()"
   ]
  },
  {
   "cell_type": "code",
   "execution_count": 62,
   "metadata": {},
   "outputs": [
    {
     "data": {
      "text/plain": [
       "democrat      234\n",
       "republican    200\n",
       "Name: party, dtype: int64"
      ]
     },
     "execution_count": 62,
     "metadata": {},
     "output_type": "execute_result"
    }
   ],
   "source": [
    "usreps.party.value_counts()"
   ]
  },
  {
   "cell_type": "code",
   "execution_count": null,
   "metadata": {},
   "outputs": [],
   "source": []
  }
 ],
 "metadata": {
  "kernelspec": {
   "display_name": "Python 3",
   "language": "python",
   "name": "python3"
  },
  "language_info": {
   "codemirror_mode": {
    "name": "ipython",
    "version": 3
   },
   "file_extension": ".py",
   "mimetype": "text/x-python",
   "name": "python",
   "nbconvert_exporter": "python",
   "pygments_lexer": "ipython3",
   "version": "3.7.3"
  }
 },
 "nbformat": 4,
 "nbformat_minor": 2
}
